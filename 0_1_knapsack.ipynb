{
  "nbformat": 4,
  "nbformat_minor": 0,
  "metadata": {
    "colab": {
      "name": "0/1 knapsack.ipynb",
      "provenance": [],
      "collapsed_sections": [],
      "toc_visible": true,
      "authorship_tag": "ABX9TyOxWJyhPfxnb+WXfjUZBMM0"
    },
    "kernelspec": {
      "name": "python3",
      "display_name": "Python 3"
    },
    "language_info": {
      "name": "python"
    }
  },
  "cells": [
    {
      "cell_type": "markdown",
      "metadata": {
        "id": "uE-iA-tID4kO"
      },
      "source": [
        "# Greedy"
      ]
    },
    {
      "cell_type": "code",
      "metadata": {
        "colab": {
          "base_uri": "https://localhost:8080/"
        },
        "id": "QIzy7UX_-Oqd",
        "outputId": "b426c512-c660-4bb6-c6c8-f94b8f791c8c"
      },
      "source": [
        "import time\n",
        "start_time = time.time()\n",
        "\n",
        "class ItemValue:\n",
        "\tdef __init__(self, wt, val, ind):\n",
        "\t\tself.wt = wt\n",
        "\t\tself.val = val\n",
        "\t\tself.ind = ind\n",
        "\t\tself.cost = val // wt\n",
        "\n",
        "\tdef __lt__(self, other):\n",
        "\t\treturn self.cost < other.cost\n",
        "\n",
        "val = [60, 100, 120, 55, 75, 36, 78, 12, 85, 34, 120, 142, 25, 175, 102, 127, 141, 78, 60, 70]\n",
        "wt = [10, 20, 30, 40, 50, 60, 70, 80, 90, 100, 110, 120, 130, 140, 150, 160, 170, 180, 190, 200]\n",
        "capacity = 145\n",
        "\n",
        "iVal = []\n",
        "for i in range(len(wt)):\n",
        "  iVal.append(ItemValue(wt[i], val[i], i))\n",
        "iVal.sort(reverse=True)\n",
        "totalValue = 0\n",
        "for i in iVal:\n",
        "  curWt = int(i.wt)\n",
        "  curVal = int(i.val)\n",
        "  if capacity - curWt >= 0:\n",
        "    capacity -= curWt\n",
        "    totalValue += curVal\n",
        "print(totalValue)\n",
        "\n",
        "print(str((time.time() - start_time)*1000)+\"ms\")"
      ],
      "execution_count": null,
      "outputs": [
        {
          "output_type": "stream",
          "name": "stdout",
          "text": [
            "335\n",
            "0.5853176116943359ms\n"
          ]
        }
      ]
    },
    {
      "cell_type": "markdown",
      "metadata": {
        "id": "moqh3Hpb-UYJ"
      },
      "source": [
        "# DP"
      ]
    },
    {
      "cell_type": "code",
      "metadata": {
        "colab": {
          "base_uri": "https://localhost:8080/"
        },
        "id": "Nd9w2jgt-Vrr",
        "outputId": "ec9506c2-d92d-4965-dff3-5517edc33c34"
      },
      "source": [
        "import time\n",
        "start_time = time.time()\n",
        "\n",
        "def knapSack(W, wt, val, n):\n",
        "    K = [[0 for x in range(W + 1)] for x in range(n + 1)]\n",
        "    for i in range(n + 1):\n",
        "        for w in range(W + 1):\n",
        "            if i == 0 or w == 0:\n",
        "                K[i][w] = 0\n",
        "            elif wt[i-1] <= w:\n",
        "                K[i][w] = max(val[i-1]\n",
        "                          + K[i-1][w-wt[i-1]], \n",
        "                              K[i-1][w])\n",
        "            else:\n",
        "                K[i][w] = K[i-1][w]\n",
        " \n",
        "    return K[n][W]\n",
        " \n",
        " \n",
        "# Driver code\n",
        "val = [60, 100, 120, 55, 75, 36, 78, 12, 85, 34, 120, 142, 25, 175, 102, 127, 141, 78, 60, 70]\n",
        "wt = [10, 20, 30, 40, 50, 60, 70, 80, 90, 100, 110, 120, 130, 140, 150, 160, 170, 180, 190, 200]\n",
        "W = 145\n",
        "n = len(val)\n",
        "print(knapSack(W, wt, val, n))\n",
        "\n",
        "print(str((time.time() - start_time)*1000)+\"ms\")"
      ],
      "execution_count": null,
      "outputs": [
        {
          "output_type": "stream",
          "name": "stdout",
          "text": [
            "358\n",
            "6.378650665283203ms\n"
          ]
        }
      ]
    }
  ]
}